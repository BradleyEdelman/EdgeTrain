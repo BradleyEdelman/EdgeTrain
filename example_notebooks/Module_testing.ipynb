{
 "cells": [
  {
   "cell_type": "code",
   "execution_count": 0,
   "metadata": {
    "application/vnd.databricks.v1+cell": {
     "cellMetadata": {
      "byteLimit": 2048000,
      "rowLimit": 10000
     },
     "inputWidgets": {},
     "nuid": "b44b38cf-c2d9-4988-ace1-5d158193960c",
     "showTitle": false,
     "tableResultSettingsMap": {},
     "title": ""
    }
   },
   "outputs": [],
   "source": [
    "# Prevent Python from writing .pyc files (compiled bytecode files).\n",
    "import os\n",
    "os.environ['PYTHONDONTWRITEBYTECODE'] = '1'"
   ]
  },
  {
   "cell_type": "code",
   "execution_count": 0,
   "metadata": {
    "application/vnd.databricks.v1+cell": {
     "cellMetadata": {
      "byteLimit": 2048000,
      "rowLimit": 10000
     },
     "inputWidgets": {},
     "nuid": "1f7530f9-e5c5-4fe1-b85b-15896c2972b5",
     "showTitle": false,
     "tableResultSettingsMap": {},
     "title": ""
    }
   },
   "outputs": [
    {
     "output_type": "stream",
     "name": "stdout",
     "output_type": "stream",
     "text": [
      "\u001B[1m============================= test session starts ==============================\u001B[0m\r\nplatform linux -- Python 3.12.3, pytest-8.3.4, pluggy-1.5.0\r\nrootdir: /Workspace/Users/bjedelma@gmail.com/ScaleML\r\nplugins: typeguard-4.4.1, anyio-4.2.0\r\n\u001B[1mcollecting ... \u001B[0m\u001B[1m\rcollecting 0 items                                                             \u001B[0m\u001B[1m\rcollecting 3 items                                                             \u001B[0m\u001B[1m\rcollected 3 items                                                              \u001B[0m\r\n\r\nScaleML/tests/test_resources.py \u001B[32m.\u001B[0m\u001B[32m.\u001B[0m\u001B[32m.\u001B[0m\u001B[33m                                      [100%]\u001B[0m\r\n\r\n\u001B[33m=============================== warnings summary ===============================\u001B[0m\r\n<frozen importlib._bootstrap>:488\r\n  <frozen importlib._bootstrap>:488: DeprecationWarning: Type google._upb._message.MessageMapContainer uses PyType_Spec with a metaclass that has custom tp_new. This is deprecated and will no longer be allowed in Python 3.14.\r\n\r\n<frozen importlib._bootstrap>:488\r\n  <frozen importlib._bootstrap>:488: DeprecationWarning: Type google._upb._message.ScalarMapContainer uses PyType_Spec with a metaclass that has custom tp_new. This is deprecated and will no longer be allowed in Python 3.14.\r\n\r\n../../../databricks/python/lib/python3.12/site-packages/google/protobuf/internal/well_known_types.py:93\r\n  /databricks/python/lib/python3.12/site-packages/google/protobuf/internal/well_known_types.py:93: DeprecationWarning: datetime.datetime.utcfromtimestamp() is deprecated and scheduled for removal in a future version. Use timezone-aware objects to represent datetimes in UTC: datetime.datetime.fromtimestamp(timestamp, datetime.UTC).\r\n    _EPOCH_DATETIME_NAIVE = datetime.datetime.utcfromtimestamp(0)\r\n\r\n-- Docs: https://docs.pytest.org/en/stable/how-to/capture-warnings.html\r\n\u001B[33m======================== \u001B[32m3 passed\u001B[0m, \u001B[33m\u001B[1m3 warnings\u001B[0m\u001B[33m in 20.33s\u001B[0m\u001B[33m ========================\u001B[0m\r\n"
     ]
    }
   ],
   "source": [
    "import warnings\n",
    "warnings.filterwarnings(\"ignore\", category=DeprecationWarning)\n",
    "\n",
    "# Test resources\n",
    "!pytest /Workspace/Users/bjedelma@gmail.com/ScaleML/tests/test_resources.py"
   ]
  },
  {
   "cell_type": "code",
   "execution_count": 0,
   "metadata": {
    "application/vnd.databricks.v1+cell": {
     "cellMetadata": {
      "byteLimit": 2048000,
      "rowLimit": 10000
     },
     "inputWidgets": {},
     "nuid": "76a42f47-d32b-4a8d-a928-924314f106d8",
     "showTitle": false,
     "tableResultSettingsMap": {},
     "title": ""
    }
   },
   "outputs": [
    {
     "output_type": "stream",
     "name": "stdout",
     "output_type": "stream",
     "text": [
      "\u001B[1m============================= test session starts ==============================\u001B[0m\r\nplatform linux -- Python 3.12.3, pytest-8.3.4, pluggy-1.5.0\r\nrootdir: /Workspace/Users/bjedelma@gmail.com/ScaleML\r\nplugins: typeguard-4.4.1, anyio-4.2.0\r\n\u001B[1mcollecting ... \u001B[0m\u001B[1m\rcollecting 0 items                                                             \u001B[0m\u001B[1m\rcollecting 9 items                                                             \u001B[0m\u001B[1m\rcollected 9 items                                                              \u001B[0m\r\n\r\n../tests/test_strategies.py \u001B[31mF\u001B[0m\u001B[31mF\u001B[0m"
     ]
    }
   ],
   "source": [
    "# test strategies\n",
    "!pytest /Workspace/Users/bjedelma@gmail.com/ScaleML/tests/test_strategies.py"
   ]
  }
 ],
 "metadata": {
  "application/vnd.databricks.v1+notebook": {
   "computePreferences": null,
   "dashboards": [],
   "environmentMetadata": {
    "base_environment": "",
    "client": "1"
   },
   "language": "python",
   "notebookMetadata": {
    "pythonIndentUnit": 4
   },
   "notebookName": "Module_testing",
   "widgets": {}
  },
  "language_info": {
   "name": "python"
  }
 },
 "nbformat": 4,
 "nbformat_minor": 0
}
