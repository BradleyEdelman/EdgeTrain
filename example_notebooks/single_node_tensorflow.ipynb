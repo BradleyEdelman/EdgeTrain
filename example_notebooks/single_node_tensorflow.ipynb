{
 "cells": [
  {
   "cell_type": "markdown",
   "id": "a12ca9ad-d96c-4d35-83df-8600b46e571b",
   "metadata": {},
   "source": [
    "Detect computational resources on current node"
   ]
  },
  {
   "cell_type": "code",
   "execution_count": null,
   "id": "fcaa7986-fc15-44fa-a62c-985e0b5ba5a3",
   "metadata": {},
   "outputs": [],
   "source": [
    "detected_resources = resources()"
   ]
  },
  {
   "cell_type": "markdown",
   "id": "6d5dd5e4-f04f-4d67-9bb7-7870841d0c14",
   "metadata": {},
   "source": [
    "Specify distributed strategy"
   ]
  },
  {
   "cell_type": "code",
   "execution_count": null,
   "id": "9857c0da-e160-406f-9ec2-04485e2561cd",
   "metadata": {},
   "outputs": [],
   "source": [
    "strategy = strategies(resources=detected_resources, framework='tensorflow')"
   ]
  },
  {
   "cell_type": "code",
   "execution_count": null,
   "id": "199cab9f-ba4e-4fe8-b352-14357e115bdd",
   "metadata": {},
   "outputs": [],
   "source": [
    "# Example of setting up and training the model using ScaleML strategy\n",
    "strategy = tf.distribute.MirroredStrategy()\n",
    "\n",
    "# Example model and dataset (you can replace with your actual dataset/model)\n",
    "train_images = ...  # Your training data (e.g., MNIST)\n",
    "train_labels = ...  # Your training labels (e.g., MNIST)\n",
    "train_dataset = tf.data.Dataset.from_tensor_slices((train_images, train_labels)).batch(64)\n",
    "\n",
    "# Create the model\n",
    "def create_model():\n",
    "    model = tf.keras.Sequential([\n",
    "        tf.keras.layers.Dense(128, activation='relu', input_shape=(784,)),\n",
    "        tf.keras.layers.Dropout(0.2),\n",
    "        tf.keras.layers.Dense(10)\n",
    "    ])\n",
    "    model.compile(optimizer='adam',\n",
    "                  loss=tf.keras.losses.SparseCategoricalCrossentropy(from_logits=True),\n",
    "                  metrics=['accuracy'])\n",
    "    return model\n",
    "\n",
    "# Create the model\n",
    "model = create_model()\n",
    "\n",
    "# Train the model while tracking resource usage\n",
    "train_with_resource_tracking(train_dataset, model, strategy)\n",
    "\n",
    "# Create a threading event to control when to stop the logging\n",
    "    stop_event = threading.Event()\n"
   ]
  }
 ],
 "metadata": {
  "kernelspec": {
   "display_name": "Python 3 (ipykernel)",
   "language": "python",
   "name": "python3"
  },
  "language_info": {
   "codemirror_mode": {
    "name": "ipython",
    "version": 3
   },
   "file_extension": ".py",
   "mimetype": "text/x-python",
   "name": "python",
   "nbconvert_exporter": "python",
   "pygments_lexer": "ipython3",
   "version": "3.12.7"
  }
 },
 "nbformat": 4,
 "nbformat_minor": 5
}
